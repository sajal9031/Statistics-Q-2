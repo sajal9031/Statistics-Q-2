{
 "cells": [
  {
   "cell_type": "markdown",
   "id": "3a796cc8-f923-411a-975d-b55006f00fb7",
   "metadata": {},
   "source": [
    "1.What are the three measures of central tendency?"
   ]
  },
  {
   "cell_type": "markdown",
   "id": "664f4781-eed6-47e5-b799-44c15ec5a6be",
   "metadata": {},
   "source": [
    "The three measures of central tendency are:\n",
    "\n",
    "1. Mean: It is the average value of a set of data, calculated by summing all the values in the dataset and dividing by the number of observations.\n",
    "\n",
    "2. Median: It is the middle value of a dataset, i.e., the value that separates the dataset into two equal halves when the data is arranged in ascending or descending order.\n",
    "\n",
    "3. Mode: It is the most frequently occurring value in a dataset."
   ]
  },
  {
   "cell_type": "code",
   "execution_count": null,
   "id": "a37941a3-a126-4fae-9099-f54b68775b5b",
   "metadata": {},
   "outputs": [],
   "source": []
  },
  {
   "cell_type": "markdown",
   "id": "7c13d55f-4d25-432c-9ecd-27314836dbaf",
   "metadata": {},
   "source": [
    "2. What is the difference between the mean, median, and mode? How are they used to measure the\n",
    "central tendency of a dataset?"
   ]
  },
  {
   "cell_type": "markdown",
   "id": "adeb233c-5a7a-4eeb-9f70-6b1b0549fdbb",
   "metadata": {},
   "source": [
    "The mean, median, and mode are statistical measures that provide information about the central tendency of a dataset.\n",
    "\n",
    "\n",
    "The mean, also known as the average, is calculated by adding up all the values in a dataset and dividing the sum by the total number of values. The mean is a common measure of central tendency and is useful for datasets with a normal distribution or bell curve.\n",
    "\n",
    "\n",
    "\n",
    "The median is the middle value in a dataset when the values are arranged in order. To calculate the median, you need to arrange the values in order and find the middle value. If there are an even number of values in the dataset, then the median is calculated by taking the average of the two middle values. The median is a useful measure of central tendency for datasets with outliers or extreme values.\n",
    "\n",
    "\n",
    "The mode is the value that appears most frequently in a dataset. If there are two or more values that appear with the same frequency, then the dataset is said to be bimodal, trimodal, or multimodal. The mode is a useful measure of central tendency for datasets with a high degree of frequency or repetition."
   ]
  },
  {
   "cell_type": "code",
   "execution_count": null,
   "id": "6ddd72c7-b0cd-4312-a2e1-8b481bbd4f50",
   "metadata": {},
   "outputs": [],
   "source": []
  },
  {
   "cell_type": "markdown",
   "id": "af23841c-3b63-4d68-ac00-bba0fe8fc5e6",
   "metadata": {},
   "source": [
    "3. Measure the three measures of central tendency for the given height data:\n",
    "[178,177,176,177,178.2,178,175,179,180,175,178.9,176.2,177,172.5,178,176.5]"
   ]
  },
  {
   "cell_type": "markdown",
   "id": "b14c331f-0560-4898-a357-50b18bc391e1",
   "metadata": {},
   "source": [
    " Mean:\n",
    "To find the mean, we add up all the heights and divide by the total number of heights:\n",
    "\n",
    "(178 + 177 + 176 + 177 + 178.2 + 178 + 175 + 179 + 180 + 175 + 178.9 + 176.2 + 177 + 172.5 + 178 + 176.5) / 16 = 177.3125\n",
    "\n",
    "So, the mean height is approximately 177.31.\n",
    "\n",
    " Median:\n",
    "To find the median, we need to first arrange the heights in order from smallest to largest:\n",
    "\n",
    "172.5, 175, 175, 176, 176.2, 176.5, 177, 177, 178, 178, 178, 178.2, 178.9, 179, 180\n",
    "\n",
    "There are 16 heights, so the median will be the average of the two middle values. The middle values are 177 and 178, so the median is:\n",
    "\n",
    "(177 + 178) / 2 = 177.5\n",
    "\n",
    "So, the median height is 177.5.\n",
    "\n",
    " Mode:\n",
    "To find the mode, we need to identify the value that appears most frequently in the dataset. In this case, the value of 178 appears three times, which is more than any other value. So, the mode height is 178.\n",
    "\n",
    "Therefore, the mean height is approximately 177.31, the median height is 177.5, and the mode height is 178."
   ]
  },
  {
   "cell_type": "code",
   "execution_count": null,
   "id": "a842c830-7e84-4652-96c0-5a14260e595c",
   "metadata": {},
   "outputs": [],
   "source": []
  },
  {
   "cell_type": "markdown",
   "id": "505a5512-285d-4c03-80dd-b8836a085225",
   "metadata": {},
   "source": [
    "4. Find the standard deviation for the given data:\n",
    "   [178,177,176,177,178.2,178,175,179,180,175,178.9,176.2,177,172.5,178,176.5]"
   ]
  },
  {
   "cell_type": "code",
   "execution_count": null,
   "id": "21466f27-2d88-4edd-b126-3ebed58bc40b",
   "metadata": {},
   "outputs": [],
   "source": []
  },
  {
   "cell_type": "markdown",
   "id": "e96d2abd-fa28-4258-9db3-e81d6fdc99d2",
   "metadata": {},
   "source": [
    "Step 1: Calculate the mean.\n",
    "We already found the mean in the previous question. The mean height is approximately 177.31.\n",
    "\n",
    "Step 2: Subtract the mean from each data point to find the deviations.\n",
    "The deviations from the mean are:\n",
    "\n",
    "0.69, -0.31, -1.31, -0.31, 0.89, 0.69, -2.31, 1.69, 2.69, -2.31, 1.59, -1.11, -0.31, -4.81, 0.69, -0.81\n",
    "\n",
    "Step 3: Square each deviation.\n",
    "The squared deviations are:\n",
    "\n",
    "0.4761, 0.0961, 1.7161, 0.0961, 0.7921, 0.4761, 5.3361, 2.8561, 7.2361, 5.3361, 2.5281, 1.2321, 0.0961, 23.1361, 0.4761, 0.6561\n",
    "\n",
    "Step 4: Find the mean of the squared deviations.\n",
    "The mean of the squared deviations is:\n",
    "\n",
    "(0.4761 + 0.0961 + 1.7161 + 0.0961 + 0.7921 + 0.4761 + 5.3361 + 2.8561 + 7.2361 + 5.3361 + 2.5281 + 1.2321 + 0.0961 + 23.1361 + 0.4761 + 0.6561) / 16 = 4.0469\n",
    "\n",
    "Step 5: Take the square root of the mean squared deviation.\n",
    "The standard deviation is the square root of the mean squared deviation, which is:\n",
    "\n",
    "sqrt(4.0469) = 2.0117 (rounded to four decimal places)\n",
    "\n",
    "So, the standard deviation of the height data is approximately 2.0117."
   ]
  },
  {
   "cell_type": "code",
   "execution_count": null,
   "id": "8b5fa057-8d7e-4d68-9b81-a075e1e99a73",
   "metadata": {},
   "outputs": [],
   "source": []
  },
  {
   "cell_type": "markdown",
   "id": "030cfb1c-b4a3-4e3a-8afa-849303b5fbbe",
   "metadata": {},
   "source": [
    "5. How are measures of dispersion such as range, variance, and standard deviation used to describe\n",
    "the spread of a dataset? Provide an example."
   ]
  },
  {
   "cell_type": "markdown",
   "id": "3ae62f8a-e382-485b-98b0-f7e4be97c3a0",
   "metadata": {},
   "source": [
    "Measures of dispersion, such as range, variance, and standard deviation, are used to describe the spread or variability of a dataset.\n",
    "\n",
    "The range of a dataset is the difference between the maximum and minimum values. It gives an indication of how spread out the data is. However, it only considers the two extreme values and does not take into account the variability of the rest of the data. For example, if we have a dataset of exam scores where the range is 50, it means that the highest score is 50 points more than the lowest score, but it does not tell us anything about how spread out the rest of the scores are.\n",
    "\n",
    "The variance and standard deviation are more informative measures of dispersion as they take into account all the values in the dataset. They measure how far the data values are from the mean. A high variance or standard deviation indicates that the data values are spread out over a wide range, while a low variance or standard deviation indicates that the data values are clustered closely around the mean.\n",
    "\n",
    "For example, let's say we have two datasets of exam scores:\n",
    "\n",
    "Dataset 1: 80, 85, 90, 95, 100\n",
    "Dataset 2: 50, 75, 80, 85, 100\n",
    "\n",
    "The range of both datasets is 20, as the highest score is 100 and the lowest score is 80. However, the variance and standard deviation of the two datasets are different.\n",
    "\n",
    "The variance of dataset 1 is:\n",
    "\n",
    "((80-90)^2 + (85-90)^2 + (90-90)^2 + (95-90)^2 + (100-90)^2) / 5 = 50\n",
    "\n",
    "The standard deviation of dataset 1 is:\n",
    "\n",
    "sqrt(50) = 7.07\n",
    "\n",
    "The variance of dataset 2 is:\n",
    "\n",
    "((50-78)^2 + (75-78)^2 + (80-78)^2 + (85-78)^2 + (100-78)^2) / 5 = 350.8\n",
    "\n",
    "The standard deviation of dataset 2 is:\n",
    "\n",
    "sqrt(350.8) = 18.73"
   ]
  },
  {
   "cell_type": "code",
   "execution_count": null,
   "id": "2f7e4fdb-9c74-4919-b38c-791111e08d75",
   "metadata": {},
   "outputs": [],
   "source": []
  },
  {
   "cell_type": "markdown",
   "id": "d90762cd-15b9-4420-8400-06c81548e3b9",
   "metadata": {},
   "source": [
    "6. What is a Venn diagram?"
   ]
  },
  {
   "cell_type": "markdown",
   "id": "b2d7a6fe-62bd-4f1d-aaad-0817d456c776",
   "metadata": {},
   "source": [
    "A Venn diagram is a visual representation of the relationships between different sets of objects or concepts. It is named after the English mathematician John Venn, who first introduced the diagram in 1880.\n",
    "\n",
    "A Venn diagram consists of overlapping circles, where each circle represents a set of objects or concepts. The overlapping regions of the circles show the common elements between the sets. The diagram is used to show the relationships between the sets, including the similarities and differences.\n",
    "\n",
    "For example, consider a Venn diagram that shows the relationship between two sets: Set A, which consists of all even numbers between 1 and 10, and Set B, which consists of all multiples of 3 between 1 and 10. The diagram would consist of two circles that overlap, with one circle representing Set A and the other circle representing Set B. The overlapping region would represent the elements that are common to both sets, which in this case is the number 6. The non-overlapping regions would represent the elements that are unique to each set: the even numbers that are not multiples of 3 in Set A, and the multiples of 3 that are not even numbers in Set B.\n",
    "\n",
    "Venn diagrams are commonly used in mathematics, statistics, logic, and other fields to visually represent relationships between sets of objects or concepts. They can be used to solve problems involving set theory, logic, and probability, and to illustrate complex ideas in a simple and intuitive way."
   ]
  },
  {
   "cell_type": "code",
   "execution_count": null,
   "id": "a0936d38-dae2-4246-844a-d6419c7c9bdb",
   "metadata": {},
   "outputs": [],
   "source": []
  },
  {
   "cell_type": "markdown",
   "id": "b06bd071-9779-4776-a942-9cff09ecdaef",
   "metadata": {},
   "source": [
    "7. For the two given sets A = (2,3,4,5,6,7) & B = (0,2,6,8,10). Find:\n",
    "\n",
    "   (i) A intersection B\n",
    "   |(ii) A ⋃ B"
   ]
  },
  {
   "cell_type": "markdown",
   "id": "bb744251-84cd-4b4e-b7b6-99d98a0df295",
   "metadata": {},
   "source": [
    "(i) A ∩ B represents the intersection of sets A and B, which consists of the elements that are common to both sets. In this case, the elements that are common to both sets are 2 and 6. Therefore, A ∩ B = {2, 6}.\n",
    "\n",
    "\n",
    "(ii) A ⋃ B represents the union of sets A and B, which consists of all the elements that are in either set. The union of sets A and B is {0, 2, 3, 4, 5, 6, 7, 8, 10}.\n",
    "\n",
    "\n",
    "\n"
   ]
  },
  {
   "cell_type": "code",
   "execution_count": null,
   "id": "0ca5ff0d-96bc-421f-867c-1ec815c4dc10",
   "metadata": {},
   "outputs": [],
   "source": []
  },
  {
   "cell_type": "markdown",
   "id": "67373e8c-671f-44d8-b80a-3ac32ef5429a",
   "metadata": {},
   "source": [
    "8. What do you understand about skewness in data?"
   ]
  },
  {
   "cell_type": "markdown",
   "id": "33969b12-47ff-4357-b982-7de8179bbe2a",
   "metadata": {},
   "source": [
    "Skewness in data is a measure of the degree of asymmetry of the distribution of the data. It is a statistical measure that indicates whether the data is symmetrical or skewed to one side.\n",
    "\n",
    "If the distribution of data is symmetrical, the skewness is zero. If the distribution of data is skewed to the right, the skewness is positive, indicating that the tail of the distribution is longer on the right side. If the distribution of data is skewed to the left, the skewness is negative, indicating that the tail of the distribution is longer on the left side.\n",
    "\n",
    "Skewness can affect the analysis of the data and the conclusions drawn from it. Skewed data can have a significant impact on the mean, making it an unreliable measure of central tendency. In such cases, it is often more appropriate to use other measures of central tendency, such as the median or mode.\n",
    "\n",
    "Skewness is an important consideration in many fields, including finance, economics, and social sciences. In finance, for example, the distribution of returns on investment portfolios is often skewed, and understanding the degree of skewness can help investors to manage their risk and make more informed investment decisions."
   ]
  },
  {
   "cell_type": "code",
   "execution_count": null,
   "id": "dc6da697-c681-4ace-852e-33c7ad87f22e",
   "metadata": {},
   "outputs": [],
   "source": []
  },
  {
   "cell_type": "markdown",
   "id": "07a0893f-d261-423b-9bbc-62f2a5fcae6d",
   "metadata": {},
   "source": [
    "9. If a data is right skewed then what will be the position of median with respect to mean?"
   ]
  },
  {
   "cell_type": "markdown",
   "id": "b258a6bf-42b5-4a4b-8e54-fd8b837a4820",
   "metadata": {},
   "source": [
    "If a dataset is right skewed, the tail of the distribution will be longer on the right-hand side. In this case, the mean will be greater than the median, and the median will be closer to the left-hand side of the distribution. This is because the presence of outliers or extreme values in the right tail pulls the mean towards the right, while the median is not affected by extreme values and remains relatively unaffected.\n",
    "\n",
    "In other words, in a right-skewed distribution, the median will be to the left of the mean."
   ]
  },
  {
   "cell_type": "code",
   "execution_count": null,
   "id": "fada98ae-b86f-4590-a810-a19f1aaaf902",
   "metadata": {},
   "outputs": [],
   "source": []
  },
  {
   "cell_type": "markdown",
   "id": "db8a651f-9d93-408d-a5f2-216bf3967a5c",
   "metadata": {},
   "source": [
    "10. Explain the difference between covariance and correlation. How are these measures used in\n",
    "statistical analysis?"
   ]
  },
  {
   "cell_type": "markdown",
   "id": "b16c770a-bcc2-4816-b17a-e6fc6b972af6",
   "metadata": {},
   "source": [
    "Covariance and correlation are two measures that are used to describe the relationship between two variables in a dataset.\n",
    "\n",
    "\n",
    "Covariance is a measure of how much two variables vary together. It measures the extent to which two variables move in the same direction (a positive covariance) or in opposite directions (a negative covariance). Covariance can take on any value, both positive and negative, and its magnitude depends on the scale of the variables being compared. However, covariance doesn't tell us anything about the strength and direction of the relationship between the variables.\n",
    "\n",
    "\n",
    "Correlation, on the other hand, is a standardized measure of the strength and direction of the relationship between two variables. Unlike covariance, correlation is always between -1 and 1, with 1 indicating a perfect positive correlation, -1 indicating a perfect negative correlation, and 0 indicating no correlation at all. Correlation is a more useful measure than covariance when we want to compare relationships between variables that have different scales.\n",
    "\n",
    "Both covariance and correlation are used in statistical analysis to help us understand the relationships between variables. They are often used to determine whether two variables are related and to what extent. For example, in finance, covariance and correlation are used to measure the relationship between different assets and to construct efficient portfolios. In biology, they are used to measure the relationship between different environmental factors and the growth of plants or animals. In general, covariance and correlation are powerful tools that can be used in a wide range of fields to understand the relationships between variables and to make predictions based on those relationships."
   ]
  },
  {
   "cell_type": "code",
   "execution_count": null,
   "id": "8e0c341a-3394-4a2a-8e30-f8c2b0d2317f",
   "metadata": {},
   "outputs": [],
   "source": []
  },
  {
   "cell_type": "markdown",
   "id": "50d96d8a-3ad4-4d55-a57d-922f7425ea9a",
   "metadata": {},
   "source": [
    "11. What is the formula for calculating the sample mean? Provide an example calculation for a\n",
    "dataset."
   ]
  },
  {
   "cell_type": "markdown",
   "id": "2bb4c30a-a769-4da1-894e-52d23ff37d43",
   "metadata": {},
   "source": [
    "The formula for calculating the sample mean is:\n",
    "\n",
    "sample mean = (sum of all data points) / (number of data points)\n",
    "\n",
    "Here's an example calculation for a dataset of 5 numbers: 10, 20, 30, 40, 50.\n",
    "\n",
    "sample mean = (10 + 20 + 30 + 40 + 50) / 5\n",
    "= 150 / 5\n",
    "= 30\n",
    "\n",
    "Therefore, the sample mean for this dataset is 30."
   ]
  },
  {
   "cell_type": "code",
   "execution_count": null,
   "id": "f0541ef2-3720-4a99-bc23-040922441db2",
   "metadata": {},
   "outputs": [],
   "source": []
  },
  {
   "cell_type": "markdown",
   "id": "e452f99e-432f-4dd1-8a41-2cabf55d7405",
   "metadata": {},
   "source": [
    "12. For a normal distribution data what is the relationship between its measure of central tendency?"
   ]
  },
  {
   "cell_type": "markdown",
   "id": "dc19fe07-15c9-4668-bfa5-57d0b7d9a642",
   "metadata": {},
   "source": [
    "For a normal distribution, the three measures of central tendency - mean, median, and mode - are equal to each other. This is because a normal distribution is a symmetric distribution with a bell-shaped curve, where the mean, median, and mode are all located at the center of the distribution.\n",
    "\n",
    "\n",
    "In a normal distribution, the mean is calculated by summing up all the data points and dividing by the total number of data points. The median is the value that is in the middle of the dataset when the data points are arranged in order. The mode is the value that occurs most frequently in the dataset.\n",
    "\n",
    "\n",
    "Because a normal distribution is symmetric, the mean, median, and mode all have the same value, which is located at the center of the distribution. This makes the calculation and interpretation of the measures of central tendency straightforward and consistent."
   ]
  },
  {
   "cell_type": "code",
   "execution_count": null,
   "id": "05a631dc-6c7c-4254-9ca1-f30d4ab565ba",
   "metadata": {},
   "outputs": [],
   "source": []
  },
  {
   "cell_type": "markdown",
   "id": "546116eb-28d2-4d23-8776-a54b454bc19d",
   "metadata": {},
   "source": [
    "12. How is covariance different from correlation?"
   ]
  },
  {
   "cell_type": "markdown",
   "id": "9567e5cb-b4e4-4242-b2bc-fc3f07d56836",
   "metadata": {},
   "source": [
    "Covariance and correlation are both measures of the relationship between two variables, but they have some important differences.\n",
    "\n",
    "Covariance measures how two variables vary together. It is calculated by taking the product of the deviations of each variable from their respective means, and then averaging those products over the sample size. A positive covariance indicates that the two variables tend to increase or decrease together, while a negative covariance indicates that they tend to vary in opposite directions. However, the magnitude of covariance does not have a standard scale, and therefore it can be difficult to interpret its value.\n",
    "\n",
    "Correlation, on the other hand, measures the strength and direction of the relationship between two variables, but it is normalized to always fall between -1 and 1. Correlation is calculated by dividing the covariance by the product of the standard deviations of the two variables. A correlation of +1 indicates a perfect positive relationship, where the two variables move in the same direction, while a correlation of -1 indicates a perfect negative relationship, where the two variables move in opposite directions. A correlation of 0 indicates no relationship between the two variables.\n",
    "\n",
    "Therefore, the key differences between covariance and correlation are that covariance measures the direction of the relationship between two variables, but does not provide a standardized measure of this relationship. Correlation provides a standardized measure of the strength and direction of the relationship between two variables."
   ]
  },
  {
   "cell_type": "code",
   "execution_count": null,
   "id": "1e18ec3d-7ffb-4843-8be1-a052dae82ec7",
   "metadata": {},
   "outputs": [],
   "source": []
  },
  {
   "cell_type": "markdown",
   "id": "e246caf3-2738-4785-98c4-bc492cf2bac4",
   "metadata": {},
   "source": [
    "13. How do outliers affect measures of central tendency and dispersion? Provide an example."
   ]
  },
  {
   "cell_type": "markdown",
   "id": "28e181ea-bfd7-4261-9211-97d64a5f5d16",
   "metadata": {},
   "source": [
    "Outliers can have a significant impact on measures of central tendency and dispersion because they can greatly influence the overall characteristics of a dataset.\n",
    "\n",
    "In terms of measures of central tendency, outliers can shift the mean and median of a dataset to be further away from the bulk of the data. For example, consider a dataset of exam scores for a class of 20 students: 65, 70, 72, 74, 75, 77, 78, 79, 80, 81, 82, 83, 84, 85, 86, 87, 88, 89, 90, 95. The mean of this dataset is 80.6 and the median is 82. However, if we were to add an outlier to the dataset, such as a score of 100, the mean would increase to 84.5 and the median would increase to 84.5. This outlier would have a large influence on the measures of central tendency, even though it is only one data point.\n",
    "\n",
    "In terms of measures of dispersion, outliers can increase the range and standard deviation of a dataset. For example, consider a dataset of the ages of employees in a company: 22, 24, 25, 26, 28, 30, 32, 34, 36, 40, 45, 50. The range of this dataset is 28, and the standard deviation is 9.76. However, if we were to add an outlier to the dataset, such as an age of 80, the range would increase to 58, and the standard deviation would increase to 18.77. This outlier would have a large influence on the measures of dispersion, indicating that the data is more spread out than it actually is."
   ]
  },
  {
   "cell_type": "code",
   "execution_count": null,
   "id": "67099ec8-bfbd-40c3-80ab-2aaaed5b4a2a",
   "metadata": {},
   "outputs": [],
   "source": []
  }
 ],
 "metadata": {
  "kernelspec": {
   "display_name": "Python 3 (ipykernel)",
   "language": "python",
   "name": "python3"
  },
  "language_info": {
   "codemirror_mode": {
    "name": "ipython",
    "version": 3
   },
   "file_extension": ".py",
   "mimetype": "text/x-python",
   "name": "python",
   "nbconvert_exporter": "python",
   "pygments_lexer": "ipython3",
   "version": "3.10.8"
  }
 },
 "nbformat": 4,
 "nbformat_minor": 5
}
